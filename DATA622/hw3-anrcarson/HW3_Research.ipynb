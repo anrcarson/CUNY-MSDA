{
 "cells": [
  {
   "cell_type": "markdown",
   "metadata": {},
   "source": [
    "# HW 3: Research on GCP vs. AWS\n",
    "#### Andy Carson\n"
   ]
  },
  {
   "cell_type": "markdown",
   "metadata": {},
   "source": [
    "# GCP\n",
    "https://console.cloud.google.com/\n",
    "\n",
    "## References\n",
    "\n",
    "https://console.cloud.google.com/getting-started?project=singular-chain-106919\n",
    "\n",
    "https://console.cloud.google.com/getting-started/guide/storage?project=singular-chain-106919\n",
    "\n",
    "https://cloud.google.com/docs/compare/azure/#service_comparisons\n",
    "\n",
    "Azure vs. GCP\n"
   ]
  },
  {
   "cell_type": "markdown",
   "metadata": {},
   "source": [
    "## Storage\n",
    "### Cloud Storage: \n",
    "Secure, cost-effective object storage.  Similar to Azure storage.  Unstructured object location.  Place data in buckets.\n"
   ]
  },
  {
   "cell_type": "markdown",
   "metadata": {},
   "source": [
    "## Computing\n",
    "https://cloud.google.com/hosting-options/?_ga=2.73217939.-107614751.1569513002\n",
    "\n",
    "### Compute Engine : \n",
    "Scalable, high-performance virtual machines like Azure VMs.There is a free tier.\n",
    "\n",
    "\n",
    "### App Engine\n",
    "https://console.cloud.google.com/appengine/start?project=singular-chain-106919\n",
    "\n",
    "https://cloud.google.com/python/getting-started/hello-world\n",
    "\n",
    "https://cloud.google.com/appengine/docs/standard/python3/quickstart\n",
    "\n",
    "https://codelabs.developers.google.com/codelabs/cloud-app-engine-python/index.html#0\n",
    "\n",
    "Use app engine and command line to run code, install packages.  Use SDK to run locally, then deploy. Difference between standard and flexible.  Flexible can allow third party packages.\n",
    "\n",
    "\n",
    "### Cloud Data Proc\n",
    "\n",
    "https://cloud.google.com/dataproc/\n",
    "\n",
    "https://cloud.google.com/blog/products/gcp/google-cloud-platform-for-data-scientists-using-jupyter-notebooks-with-apache-spark-on-google-cloud\n",
    "\n",
    "Like Azure HDInsight\n",
    "\n",
    "Creating a Jupyter notebook environment on Google Cloud Dataproc, a fully-managed Apache Spark and Hadoop service\n",
    "\n"
   ]
  },
  {
   "cell_type": "markdown",
   "metadata": {},
   "source": [
    "### Analytics\n",
    "BigQuery - like Azure DataLake\n",
    "https://cloud.google.com/bigquery/\n",
    "\n"
   ]
  },
  {
   "cell_type": "markdown",
   "metadata": {},
   "source": [
    "## AWS\n",
    "https://www.awseducate.com/login?startURL=%2FSiteLogin\n",
    "\n",
    "https://labs.vocareum.com/\n",
    "\n",
    "https://console.aws.amazon.com/console/home?region=us-east-1#"
   ]
  },
  {
   "cell_type": "markdown",
   "metadata": {},
   "source": [
    "### References\n",
    "https://docs.microsoft.com/en-us/azure/architecture/aws-professional/services\n",
    "\n",
    "### Compute\n",
    "EC2 (Elastic cloud computing).  VM.  Like Azure VM.\n",
    "\n",
    "EMR.  Like HDInsight.\n",
    "\n",
    "### Schedule\n",
    "Data Pipeline.  Like Azure Data Factory.\n",
    "\n",
    "### Analytics\n",
    "Kinesis analytics.  Data lake storage and analytics.\n",
    "\n",
    "\n",
    "### Storage\n",
    "Simple Storage Services (S3). Like Azure Blob Storage."
   ]
  },
  {
   "cell_type": "markdown",
   "metadata": {},
   "source": [
    "\n"
   ]
  }
 ],
 "metadata": {
  "kernelspec": {
   "display_name": "Python 3",
   "language": "python",
   "name": "python3"
  },
  "language_info": {
   "codemirror_mode": {
    "name": "ipython",
    "version": 3
   },
   "file_extension": ".py",
   "mimetype": "text/x-python",
   "name": "python",
   "nbconvert_exporter": "python",
   "pygments_lexer": "ipython3",
   "version": "3.7.4"
  }
 },
 "nbformat": 4,
 "nbformat_minor": 2
}
