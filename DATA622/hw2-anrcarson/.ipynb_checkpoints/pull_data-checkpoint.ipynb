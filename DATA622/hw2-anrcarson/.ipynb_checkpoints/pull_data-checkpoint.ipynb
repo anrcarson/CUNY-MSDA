{
 "cells": [
  {
   "cell_type": "code",
   "execution_count": 1,
   "metadata": {},
   "outputs": [
    {
     "data": {
      "text/plain": [
       "'\\nWhen this is called using python pull_data.py in the command line, \\nthis will go to the 2 Kaggle urls provided below, authenticate using your own Kaggle sign on, \\npull the two datasets, and save as .csv files in the current local directory. \\n\\nThe authentication login details (aka secrets) need to be in a hidden folder (hint: use .gitignore). \\nThere must be a data check step to ensure the data has been pulled correctly and clear commenting and \\ndocumentation for each step inside the .py file. \\n\\nTraining dataset url: https://www.kaggle.com/c/titanic/download/train.csv \\nScoring dataset url: https://www.kaggle.com/c/titanic/download/test.csv\\n        \\n'"
      ]
     },
     "execution_count": 1,
     "metadata": {},
     "output_type": "execute_result"
    }
   ],
   "source": [
    "### pull_data.py (5 points)\n",
    "\n",
    "\"\"\"\n",
    "When this is called using python pull_data.py in the command line, \n",
    "this will go to the 2 Kaggle urls provided below, authenticate using your own Kaggle sign on, \n",
    "pull the two datasets, and save as .csv files in the current local directory. \n",
    "\n",
    "The authentication login details (aka secrets) need to be in a hidden folder (hint: use .gitignore). \n",
    "There must be a data check step to ensure the data has been pulled correctly and clear commenting and \n",
    "documentation for each step inside the .py file. \n",
    "\n",
    "Training dataset url: https://www.kaggle.com/c/titanic/download/train.csv \n",
    "Scoring dataset url: https://www.kaggle.com/c/titanic/download/test.csv\n",
    "        \n",
    "\"\"\""
   ]
  },
  {
   "cell_type": "code",
   "execution_count": 2,
   "metadata": {},
   "outputs": [],
   "source": [
    "# References:\n",
    "# https://github.com/Kaggle/kaggle-api\n",
    "# https://www.kaggle.com/c/titanic/data"
   ]
  },
  {
   "cell_type": "code",
   "execution_count": 3,
   "metadata": {},
   "outputs": [
    {
     "name": "stdout",
     "output_type": "stream",
     "text": [
      "Kaggle package and authentication successfull.\n"
     ]
    }
   ],
   "source": [
    "#################################\n",
    "# Authenticate Kaggle sign on\n",
    "#################################\n",
    "# Note:  API key stored in kaggle package information\n",
    "# Follow instructions for setup here: https://github.com/Kaggle/kaggle-api\n",
    "\n",
    "#packages\n",
    "try:\n",
    "    import kaggle\n",
    "    kapi = kaggle.api\n",
    "    print(\"Kaggle package and authentication successfull.\")\n",
    "except:\n",
    "    print(\"Error: Make sure kaggle package is installed and that the kaggle.json file is located in C:\\\\Users\\\\[user]\\\\.kaggle.  This file is needed for authentication.\")"
   ]
  },
  {
   "cell_type": "code",
   "execution_count": 4,
   "metadata": {},
   "outputs": [],
   "source": [
    "try:\n",
    "    import pandas as pd\n",
    "    from io import BytesIO\n",
    "    #from io import StringIO\n",
    "except:\n",
    "    print(\"Error: check installation of needed packages.\")"
   ]
  },
  {
   "cell_type": "code",
   "execution_count": null,
   "metadata": {},
   "outputs": [],
   "source": []
  },
  {
   "cell_type": "code",
   "execution_count": 5,
   "metadata": {},
   "outputs": [],
   "source": [
    "###########################\n",
    "### Pull two data sets: train and test\n",
    "###########################"
   ]
  },
  {
   "cell_type": "code",
   "execution_count": 6,
   "metadata": {},
   "outputs": [
    {
     "name": "stdout",
     "output_type": "stream",
     "text": [
      "Train data\n",
      "     PassengerId  Survived  Pclass  \\\n",
      "0              1         0       3   \n",
      "1              2         1       1   \n",
      "2              3         1       3   \n",
      "3              4         1       1   \n",
      "4              5         0       3   \n",
      "..           ...       ...     ...   \n",
      "886          887         0       2   \n",
      "887          888         1       1   \n",
      "888          889         0       3   \n",
      "889          890         1       1   \n",
      "890          891         0       3   \n",
      "\n",
      "                                                  Name     Sex   Age  SibSp  \\\n",
      "0                              Braund, Mr. Owen Harris    male  22.0      1   \n",
      "1    Cumings, Mrs. John Bradley (Florence Briggs Th...  female  38.0      1   \n",
      "2                               Heikkinen, Miss. Laina  female  26.0      0   \n",
      "3         Futrelle, Mrs. Jacques Heath (Lily May Peel)  female  35.0      1   \n",
      "4                             Allen, Mr. William Henry    male  35.0      0   \n",
      "..                                                 ...     ...   ...    ...   \n",
      "886                              Montvila, Rev. Juozas    male  27.0      0   \n",
      "887                       Graham, Miss. Margaret Edith  female  19.0      0   \n",
      "888           Johnston, Miss. Catherine Helen \"Carrie\"  female   NaN      1   \n",
      "889                              Behr, Mr. Karl Howell    male  26.0      0   \n",
      "890                                Dooley, Mr. Patrick    male  32.0      0   \n",
      "\n",
      "     Parch            Ticket     Fare Cabin Embarked  \n",
      "0        0         A/5 21171   7.2500   NaN        S  \n",
      "1        0          PC 17599  71.2833   C85        C  \n",
      "2        0  STON/O2. 3101282   7.9250   NaN        S  \n",
      "3        0            113803  53.1000  C123        S  \n",
      "4        0            373450   8.0500   NaN        S  \n",
      "..     ...               ...      ...   ...      ...  \n",
      "886      0            211536  13.0000   NaN        S  \n",
      "887      0            112053  30.0000   B42        S  \n",
      "888      2        W./C. 6607  23.4500   NaN        S  \n",
      "889      0            111369  30.0000  C148        C  \n",
      "890      0            370376   7.7500   NaN        Q  \n",
      "\n",
      "[891 rows x 12 columns]\n"
     ]
    }
   ],
   "source": [
    "# get train data\n",
    "try:\n",
    "    train = kapi.competitions_data_download_file('titanic', 'train.csv')\n",
    "    df_train = pd.read_csv(BytesIO(train.encode()), header=0)\n",
    "    print(\"Train data\")\n",
    "    print(df_train)\n",
    "except:\n",
    "    print(\"Error: train data did not import from API.\")"
   ]
  },
  {
   "cell_type": "code",
   "execution_count": null,
   "metadata": {},
   "outputs": [],
   "source": []
  },
  {
   "cell_type": "code",
   "execution_count": 7,
   "metadata": {},
   "outputs": [
    {
     "name": "stdout",
     "output_type": "stream",
     "text": [
      "Test data\n",
      "     PassengerId  Pclass                                          Name  \\\n",
      "0            892       3                              Kelly, Mr. James   \n",
      "1            893       3              Wilkes, Mrs. James (Ellen Needs)   \n",
      "2            894       2                     Myles, Mr. Thomas Francis   \n",
      "3            895       3                              Wirz, Mr. Albert   \n",
      "4            896       3  Hirvonen, Mrs. Alexander (Helga E Lindqvist)   \n",
      "..           ...     ...                                           ...   \n",
      "413         1305       3                            Spector, Mr. Woolf   \n",
      "414         1306       1                  Oliva y Ocana, Dona. Fermina   \n",
      "415         1307       3                  Saether, Mr. Simon Sivertsen   \n",
      "416         1308       3                           Ware, Mr. Frederick   \n",
      "417         1309       3                      Peter, Master. Michael J   \n",
      "\n",
      "        Sex   Age  SibSp  Parch              Ticket      Fare Cabin Embarked  \n",
      "0      male  34.5      0      0              330911    7.8292   NaN        Q  \n",
      "1    female  47.0      1      0              363272    7.0000   NaN        S  \n",
      "2      male  62.0      0      0              240276    9.6875   NaN        Q  \n",
      "3      male  27.0      0      0              315154    8.6625   NaN        S  \n",
      "4    female  22.0      1      1             3101298   12.2875   NaN        S  \n",
      "..      ...   ...    ...    ...                 ...       ...   ...      ...  \n",
      "413    male   NaN      0      0           A.5. 3236    8.0500   NaN        S  \n",
      "414  female  39.0      0      0            PC 17758  108.9000  C105        C  \n",
      "415    male  38.5      0      0  SOTON/O.Q. 3101262    7.2500   NaN        S  \n",
      "416    male   NaN      0      0              359309    8.0500   NaN        S  \n",
      "417    male   NaN      1      1                2668   22.3583   NaN        C  \n",
      "\n",
      "[418 rows x 11 columns]\n"
     ]
    }
   ],
   "source": [
    "# get test data\n",
    "try:\n",
    "    test = kapi.competitions_data_download_file('titanic', 'test.csv')\n",
    "    df_test = pd.read_csv(BytesIO(test.encode()), header=0)\n",
    "    print(\"Test data\")\n",
    "    print(df_test)\n",
    "except:\n",
    "    print(\"Error: test data did not import from API.\")"
   ]
  },
  {
   "cell_type": "code",
   "execution_count": null,
   "metadata": {},
   "outputs": [],
   "source": []
  },
  {
   "cell_type": "code",
   "execution_count": 8,
   "metadata": {},
   "outputs": [],
   "source": [
    "#####################\n",
    "### validate data sets -  check number of rows and columns; check column names\n",
    "######################\n",
    "\n",
    "# train is 891 rows x 12 columns\n",
    "#print(len(df_train) == 891)\n",
    "#print(len(df_train.columns) == 12)\n",
    "\n",
    "# test is 418 rows by 11 columns\n",
    "#print(len(df_test) == 418)\n",
    "#print(len(df_test.columns) == 11)\n",
    "\n",
    "#check column names\n",
    "train_columns = (list(df_train.columns) == list(['PassengerId', 'Survived', 'Pclass', 'Name', 'Sex', 'Age', 'SibSp', 'Parch', 'Ticket', 'Fare', 'Cabin', 'Embarked']))\n",
    "#print(train_columns)\n",
    "test_columns = (list(df_test.columns) == list(['PassengerId', 'Pclass', 'Name', 'Sex', 'Age', 'SibSp', 'Parch', 'Ticket', 'Fare', 'Cabin', 'Embarked']))\n",
    "#print(test_columns)"
   ]
  },
  {
   "cell_type": "code",
   "execution_count": 9,
   "metadata": {},
   "outputs": [
    {
     "name": "stdout",
     "output_type": "stream",
     "text": [
      "The train and test data pulled correctly.\n"
     ]
    }
   ],
   "source": [
    "#set variable for validated data\n",
    "checkData = (\n",
    "            (len(df_train) == 891) & \n",
    "            (len(df_train.columns) == 12) & \n",
    "            (len(df_test) == 418) & \n",
    "            (len(df_test.columns) == 11) &\n",
    "            train_columns &\n",
    "            test_columns\n",
    "            )\n",
    "\n",
    "#print results\n",
    "if(checkData):\n",
    "    print(\"The train and test data pulled correctly.\")\n",
    "else:\n",
    "    print(\"Error: the train or test data did NOT pull correctly.\")"
   ]
  },
  {
   "cell_type": "code",
   "execution_count": 11,
   "metadata": {},
   "outputs": [
    {
     "name": "stdout",
     "output_type": "stream",
     "text": [
      "Files saved successfully.  End of file.\n"
     ]
    }
   ],
   "source": [
    "####################\n",
    "# save as .csv in local directory\n",
    "##################\n",
    "\n",
    "#write to local path\n",
    "if(checkData):\n",
    "    try:\n",
    "        df_train.to_csv('train.csv', index=False)\n",
    "        df_test.to_csv('test.csv',index=False)\n",
    "        print(\"Files saved successfully.  End of file.\")\n",
    "    except:\n",
    "        print(\"Error: could not save train and test files to local directory.  Previously saved files will be used in subsequent code.\")\n",
    "else:\n",
    "    print(\"Train and test data NOT written to local file due to failed data validation step.\")"
   ]
  }
 ],
 "metadata": {
  "kernelspec": {
   "display_name": "Python 3",
   "language": "python",
   "name": "python3"
  },
  "language_info": {
   "codemirror_mode": {
    "name": "ipython",
    "version": 3
   },
   "file_extension": ".py",
   "mimetype": "text/x-python",
   "name": "python",
   "nbconvert_exporter": "python",
   "pygments_lexer": "ipython3",
   "version": "3.7.4"
  }
 },
 "nbformat": 4,
 "nbformat_minor": 2
}
