{
 "cells": [
  {
   "cell_type": "markdown",
   "metadata": {},
   "source": [
    "# Fall 2019 DATA622.001/002 Homework #1\n",
    "\n",
    "1) Assigned on August 30, 2019\n",
    "\n",
    "2) Due on September 15, 2019 11:59 PM EST\n",
    "\n",
    "3) 17 points possible, worth 17% of your final grade\n",
    "\n",
    "Author: Andy Carson\n",
    "\n",
    "Note: Python 2.7"
   ]
  },
  {
   "cell_type": "markdown",
   "metadata": {},
   "source": [
    "## Python Coding (7 points)\n",
    "Please write python programs for the following two questions."
   ]
  },
  {
   "cell_type": "markdown",
   "metadata": {},
   "source": [
    "### 1. Write a Python Program to Find the Second Smallest Number in a List."
   ]
  },
  {
   "cell_type": "code",
   "execution_count": 1,
   "metadata": {},
   "outputs": [],
   "source": [
    "import numbers\n",
    "\n",
    "def second_smallest(numlist):\n",
    "    numlist = [x for x in numlist if isinstance(x, numbers.Number)] #only keep numbers in list\n",
    "    if len(numlist) > 0:\n",
    "        numlist.sort()\n",
    "        print numlist[1]\n",
    "        #return numlist[1]\n",
    "    else:\n",
    "        print \"No numbers in list\""
   ]
  },
  {
   "cell_type": "code",
   "execution_count": 2,
   "metadata": {},
   "outputs": [],
   "source": [
    "numlist = [1,2,3,4,5,6]"
   ]
  },
  {
   "cell_type": "code",
   "execution_count": 3,
   "metadata": {},
   "outputs": [
    {
     "name": "stdout",
     "output_type": "stream",
     "text": [
      "2\n"
     ]
    }
   ],
   "source": [
    "second_smallest(numlist)"
   ]
  },
  {
   "cell_type": "code",
   "execution_count": 4,
   "metadata": {},
   "outputs": [],
   "source": [
    "#test cases\n",
    "numlists = [\n",
    "    [11, 12, 13, 14, 15, 16],\n",
    "    [ 11. ,  11.5,  12. ,  12.5,  13. ,  13.5,  14. ,  14.5,  15. , 15.5,  16. ,  16.5],\n",
    "    [5,4,3,2,1],\n",
    "    [10,2,5,7,3,8,9,10],\n",
    "    [2,2,2,2,2,1],\n",
    "    [],\n",
    "    ['a','b','c']  \n",
    "]"
   ]
  },
  {
   "cell_type": "code",
   "execution_count": 5,
   "metadata": {},
   "outputs": [
    {
     "name": "stdout",
     "output_type": "stream",
     "text": [
      "12\n",
      "11.5\n",
      "2\n",
      "3\n",
      "2\n",
      "No numbers in list\n",
      "No numbers in list\n"
     ]
    }
   ],
   "source": [
    "#check correct output\n",
    "for i in numlists:\n",
    "    second_smallest(i)"
   ]
  },
  {
   "cell_type": "markdown",
   "metadata": {},
   "source": [
    "### 2. Two words are anagrams of each other if they contain the same number of characters and the same characters. Please write a function to test if two words are anagrams. e.g. cautioned is an anagram for education."
   ]
  },
  {
   "cell_type": "code",
   "execution_count": 6,
   "metadata": {},
   "outputs": [],
   "source": [
    "def check_anagram(wordPair):\n",
    "    if (type(wordPair[0]) == str) & (type(wordPair[1]) == str):\n",
    "        #make all lower, list\n",
    "        word1 = list(wordPair[0].lower())\n",
    "        word2 = list(wordPair[1].lower())\n",
    "        \n",
    "        #sort list of char\n",
    "        word1.sort()\n",
    "        word2.sort()\n",
    "        \n",
    "        #keep only char\n",
    "        word1_alpha = [x for x in word1 if x.isalpha()]\n",
    "        word2_alpha = [x for x in word2 if x.isalpha()]\n",
    "        \n",
    "        if (len(word1)==len(word1_alpha)) & (len(word2)==len(word2_alpha)):\n",
    "            print word1 == word2\n",
    "        else:\n",
    "            print False\n",
    "            print \"At least one character in one of the pair is not a letter.\"\n",
    "    else:\n",
    "        print False\n",
    "        print \"At least one of the pair is not a string.\""
   ]
  },
  {
   "cell_type": "code",
   "execution_count": 7,
   "metadata": {},
   "outputs": [],
   "source": [
    "wordPair = ['cautioned','education']"
   ]
  },
  {
   "cell_type": "code",
   "execution_count": 8,
   "metadata": {},
   "outputs": [
    {
     "name": "stdout",
     "output_type": "stream",
     "text": [
      "True\n"
     ]
    }
   ],
   "source": [
    "check_anagram(wordPair)"
   ]
  },
  {
   "cell_type": "code",
   "execution_count": 9,
   "metadata": {},
   "outputs": [],
   "source": [
    "wordPairsTrue = [\n",
    "['act','cat'],\n",
    "['note','tone'],\n",
    "['case','aces'],\n",
    "['tar','rat'],\n",
    "['aide','idea'],\n",
    "['earth','heart'],\n",
    "['ours','sour'],\n",
    "['tea','eat'],\n",
    "['ape','pea'],\n",
    "['fast','fats'],\n",
    "['pat','tap'],\n",
    "['urn','run'],\n",
    "['are','ear'],\n",
    "['flow','wolf'],\n",
    "['pear','reap'],\n",
    "['use','Sue'],\n",
    "['arm','ram'],\n",
    "['God','dog'],\n",
    "['war','raw'],\n",
    "['bare','bear'],\n",
    "['mars','rams'],\n",
    "['was','saw'],\n",
    "['beak','bake'],\n",
    "['meat','team'],\n",
    "['ring','grin'],\n",
    "['wed','dew'],\n",
    "['best','bets'],\n",
    "['meats','steam'],\n",
    "['sink','skin'],\n",
    "['who','how'],\n",
    "['boss','sobs'],\n",
    "['nap','pan'],\n",
    "['slip','lips'],\n",
    "['won','now'],\n",
    "['cafe','face'],\n",
    "['night','thing'],\n",
    "['tab','bat'],\n",
    "['yap','pay'],\n",
    "['care','race']       \n",
    "]"
   ]
  },
  {
   "cell_type": "code",
   "execution_count": 10,
   "metadata": {},
   "outputs": [
    {
     "name": "stdout",
     "output_type": "stream",
     "text": [
      "True\n",
      "True\n",
      "True\n",
      "True\n",
      "True\n",
      "True\n",
      "True\n",
      "True\n",
      "True\n",
      "True\n",
      "True\n",
      "True\n",
      "True\n",
      "True\n",
      "True\n",
      "True\n",
      "True\n",
      "True\n",
      "True\n",
      "True\n",
      "True\n",
      "True\n",
      "True\n",
      "True\n",
      "True\n",
      "True\n",
      "True\n",
      "True\n",
      "True\n",
      "True\n",
      "True\n",
      "True\n",
      "True\n",
      "True\n",
      "True\n",
      "True\n",
      "True\n",
      "True\n",
      "True\n"
     ]
    }
   ],
   "source": [
    "for i in wordPairsTrue:\n",
    "    #print i\n",
    "    check_anagram(i)"
   ]
  },
  {
   "cell_type": "code",
   "execution_count": 11,
   "metadata": {},
   "outputs": [],
   "source": [
    "wordPairsFalse = [\n",
    "    ['test','blue'],\n",
    "    ['eeee','ee'],\n",
    "    ['rest','trees'],\n",
    "    ['54','45'],\n",
    "    [45,54],\n",
    "    ['cafe4','face']\n",
    "]"
   ]
  },
  {
   "cell_type": "code",
   "execution_count": 12,
   "metadata": {},
   "outputs": [
    {
     "name": "stdout",
     "output_type": "stream",
     "text": [
      "['test', 'blue']\n",
      "False\n",
      "['eeee', 'ee']\n",
      "False\n",
      "['rest', 'trees']\n",
      "False\n",
      "['54', '45']\n",
      "False\n",
      "At least one character in one of the pair is not a letter.\n",
      "[45, 54]\n",
      "False\n",
      "At least one of the pair is not a string.\n",
      "['cafe4', 'face']\n",
      "False\n",
      "At least one character in one of the pair is not a letter.\n"
     ]
    }
   ],
   "source": [
    "for i in wordPairsFalse:\n",
    "    print i\n",
    "    check_anagram(i)"
   ]
  },
  {
   "cell_type": "markdown",
   "metadata": {},
   "source": [
    "Submission Instructions: .py or jupyter notebook submission would work."
   ]
  },
  {
   "cell_type": "markdown",
   "metadata": {},
   "source": [
    "### Data Science Working Environment: Docker & Anaconda (10 points)\n",
    "\n",
    "1. Read this article on Python environment and Anaconda. https://medium.freecodecamp.org/why-you-need-python-environments-and-how-to-manage-them-with-conda-85f155f4353c\n",
    "2. Read these articles on Docker. https://www.dataquest.io/blog/docker-data-science/; https://becominghuman.ai/docker-for-data-science-part-1-dd41e5ef1d80"
   ]
  },
  {
   "cell_type": "markdown",
   "metadata": {},
   "source": [
    "3. Write a short paragraph (around ~200 words total) on the following topics:\n",
    "    * the role \"environment\" plays in a data scientist's workflow (the readings from #1 & #2 will cover this)\n",
    "    * the difference between Docker & Anaconda, and \n",
    "    * why some data science teams prefer to use the two together (you will need to do more research on this outside of the articles listed above)."
   ]
  },
  {
   "cell_type": "markdown",
   "metadata": {},
   "source": [
    "#### Paragraph:\n",
    "\n",
    "Environment:\n",
    "\n",
    "As code packages change, versions of Python are updated, and one tries to reuse code from others, the use of different environments will become necessary. As the author in the first article puts it, \"An environment consists of a certain Python version and some packages. Consequently, if you want to develop or use applications with different Python or package version requirements, you need to set up different environments.\"  Doing so means that one can reuse code from others that may not work in one's default environment, one can avoid rewriting code that once worked but no longer does due to updates (and can let it run in an older environment), and one can test code out in different environments so that it is robust enough to run across many different environments without error.\n",
    "\n",
    "Docker vs. Anaconda:\n",
    "\n",
    "The environment is not the only variable that can determine whether code runs without error.  The OS (e.g., MAC vs. Windows vs. Linux) may also make a difference in how different packages function.  Docker allows you to package up a lightweight OS, application, and environment together in a single container that can be shipped/shared for use.  Anaconda doesn't have a separate OS, just the application and environment, with each different environment all using the same OS.  In this way, Docker can allow one to test the code and environment in different operating systems to make sure that things are running smoothly across all operating systems that one wants to deploy to, and not just test across multiple environments only.\n",
    "\n",
    "Why use both: \n",
    "\n",
    "First, one can have Anaconda running on Docker.  In this way, one doesn't need a separate container for Python 2.7 vs. 3.X.  One can have different environments running in the same container, which may help reduce the number of containers needed for testing, and may make it easier to test code by quickly switching back and forth between environments within the same container.  This may also be more advantageus as Docker appears to be a bit more unwieldy/difficult to use than Anaconda.  Second, for initial development, it may be faster to work with Anaconda on a single computer than to try and work within different containers using Docker.  Testing compatibility across different operating systems will need to happen later and perhaps at different stages in the development cycle, but it needn't happen right from the beginning, and may slow down development overall if done so.  Thus, it seems that Anaconda and Docker should be viewed as complementary/compatible for ensuring that one can quickly develop code that is stable and usable across many different environments and systems."
   ]
  },
  {
   "cell_type": "markdown",
   "metadata": {},
   "source": [
    "### Submission Instructions:\n",
    "\n",
    "We will be using Github to submit this section (as well as the rest \n",
    "of the homework assignments in this course).  It's a good idea to get \n",
    "familiar with this process now, since Github is a major part of a data \n",
    "scientist's toolbox.  By following the homework link, Github Classroom \n",
    "has cloned this repo for you (your url for this page should read \n",
    "something like https://github.com/cuny-sps-msda-data622-2019fall/hw1-[your \n",
    "github handle]).  This is your own cloned private repo for this \n",
    "assignment and I will be able to track and grade whatever changes you \n",
    "make to this repo.  Please note that late submission can be tracked via \n",
    "Github Classroom.  For the 200 word paragraph, feel free to directly \n",
    "modify this ReadMe file to add your answer.  Or, you can upload a PDF, \n",
    "word document, or whatever format you prefer to this repo.  As usual, \n",
    "any questions?  Use BlackBoard or email."
   ]
  }
 ],
 "metadata": {
  "kernelspec": {
   "display_name": "Python 2",
   "language": "python",
   "name": "python2"
  },
  "language_info": {
   "codemirror_mode": {
    "name": "ipython",
    "version": 2
   },
   "file_extension": ".py",
   "mimetype": "text/x-python",
   "name": "python",
   "nbconvert_exporter": "python",
   "pygments_lexer": "ipython2",
   "version": "2.7.15"
  }
 },
 "nbformat": 4,
 "nbformat_minor": 2
}
