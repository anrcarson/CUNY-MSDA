{
 "cells": [
  {
   "cell_type": "markdown",
   "metadata": {},
   "source": [
    "# DATA 608: HW 4.5\n",
    "\n",
    "Data: New York City tree census\n",
    "https://data.cityofnewyork.us/Environment/2015-Street-Tree-Census-Tree-Data/pi5s-9p35\n",
    "\n",
    "Task:\n",
    "* Create flask API that responds to information from URL\n",
    "* Requirement: Rest API returns something from the tree census.  It can be anything.  Only requirement is that it needs to accept a variable from the URL.\n",
    "* Suggestion: what might the user like to see regarding information about trees?"
   ]
  },
  {
   "cell_type": "code",
   "execution_count": 23,
   "metadata": {},
   "outputs": [],
   "source": [
    "#import packages\n",
    "from flask import Flask, jsonify\n",
    "import pandas as pd"
   ]
  },
  {
   "cell_type": "code",
   "execution_count": 26,
   "metadata": {},
   "outputs": [
    {
     "name": "stdout",
     "output_type": "stream",
     "text": [
      " * Serving Flask app \"__main__\" (lazy loading)\n",
      " * Environment: production\n",
      "   WARNING: Do not use the development server in a production environment.\n",
      "   Use a production WSGI server instead.\n",
      " * Debug mode: off\n"
     ]
    },
    {
     "name": "stderr",
     "output_type": "stream",
     "text": [
      " * Running on http://127.0.0.1:5000/ (Press CTRL+C to quit)\n"
     ]
    }
   ],
   "source": [
    "################\n",
    "# sample API\n",
    "#################\n",
    "#define app\n",
    "app = Flask(__name__)\n",
    "\n",
    "# This is a hello world flask api.\n",
    "# visit localhost:5000/hello in a browser to see what gets returned\n",
    "@app.route('/hello', methods=['GET'])\n",
    "def return_hello():\n",
    "    return jsonify({'hello': 'world'})\n",
    "\n",
    "# This is a more complex API who's returned information depends on a variable from the URL.\n",
    "# visit localhost:5000/complex/foo to see what gets returned. Replace\n",
    "# foo with other words to verify the API is reponding to that variable.\n",
    "\n",
    "@app.route('/complex/<string:word>')\n",
    "def return_complex(word):\n",
    "    return jsonify({'complex': word})\n",
    "\n",
    "#run\n",
    "if __name__ == '__main__':\n",
    "    app.run(debug=False #need for running in Jupyter\n",
    "           )"
   ]
  },
  {
   "cell_type": "code",
   "execution_count": 25,
   "metadata": {},
   "outputs": [
    {
     "name": "stdout",
     "output_type": "stream",
     "text": [
      " * Serving Flask app \"__main__\" (lazy loading)\n",
      " * Environment: production\n",
      "   WARNING: Do not use the development server in a production environment.\n",
      "   Use a production WSGI server instead.\n",
      " * Debug mode: off\n"
     ]
    },
    {
     "name": "stderr",
     "output_type": "stream",
     "text": [
      " * Running on http://127.0.0.1:5000/ (Press CTRL+C to quit)\n"
     ]
    }
   ],
   "source": [
    "##############\n",
    "# my API\n",
    "##############\n",
    "# References:\n",
    "# https://dev.socrata.com/docs/functions/like.html\n",
    "# http://pandas.pydata.org/pandas-docs/stable/generated/pandas.DataFrame.to_json.html\n",
    "# http://flask.pocoo.org/docs/1.0/api/\n",
    "# https://stackoverflow.com/questions/14098638/python-descriptor-split-requires-a-str-object-but-received-a-unicode\n",
    "\n",
    "# API function:\n",
    "# The API takes a variable 'tree' and calls the tree census API to return \n",
    "# a count of trees where the spc_common is like 'tree'.\n",
    "# Example: 'http://127.0.0.1:5000/trees/maple' returns a count of all maples species by species.\n",
    "# Example: 'http://127.0.0.1:5000/trees/cedar' returns a count of all cedars species by species.\n",
    "# Note: 'tree' is case insensitive. \"Cedar\" and \"cedar\" will return the same thing.\n",
    "\n",
    "#define app\n",
    "myapp = Flask(__name__)\n",
    "\n",
    "#get tree census data\n",
    "@myapp.route('/trees/<string:tree>')\n",
    "def return_trees(tree):\n",
    "    #return count where species like tree\n",
    "    treenames_url = ('https://data.cityofnewyork.us/resource/nwxe-4ae8.json?' +\\\n",
    "            '$select=spc_common,count(tree_id)' +\\\n",
    "            '&$where=lower(spc_common) like \\'%25' +  tree.lower() + '%25\\'' +\\\n",
    "            '&$group=spc_common').replace(' ', '%20')\n",
    "    treenames = pd.read_json(treenames_url)\n",
    "    return treenames.to_json(orient='records')\n",
    "\n",
    "#run\n",
    "if __name__ == '__main__':\n",
    "    myapp.run(debug=False #need for running in Jupyter\n",
    "           )"
   ]
  }
 ],
 "metadata": {
  "kernelspec": {
   "display_name": "Python 2",
   "language": "python",
   "name": "python2"
  },
  "language_info": {
   "codemirror_mode": {
    "name": "ipython",
    "version": 2
   },
   "file_extension": ".py",
   "mimetype": "text/x-python",
   "name": "python",
   "nbconvert_exporter": "python",
   "pygments_lexer": "ipython2",
   "version": "2.7.15"
  }
 },
 "nbformat": 4,
 "nbformat_minor": 2
}
